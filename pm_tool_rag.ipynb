{
 "cells": [
  {
   "cell_type": "code",
   "execution_count": 2,
   "id": "60220de5",
   "metadata": {},
   "outputs": [
    {
     "data": {
      "text/plain": [
       "34442"
      ]
     },
     "execution_count": 2,
     "metadata": {},
     "output_type": "execute_result"
    }
   ],
   "source": [
    "from docx import Document\n",
    "\n",
    "def extract_text_from_docx(path):\n",
    "    doc = Document(path)\n",
    "    return \"\\n\".join([para.text for para in doc.paragraphs if para.text.strip()])\n",
    "\n",
    "doc1 = extract_text_from_docx('./docs/1747395490801_PMT Pro User FAQ.docx')\n",
    "doc2 = extract_text_from_docx('./docs/1747395531476_Status and Evaluation on 15MAY2025 - PM Pro.docx')\n",
    "\n",
    "raw_knowledge = doc1 + \"\\n\" + doc2\n",
    "len(raw_knowledge)"
   ]
  },
  {
   "cell_type": "code",
   "execution_count": 2,
   "id": "fa7d84a7",
   "metadata": {},
   "outputs": [
    {
     "data": {
      "text/plain": [
       "21"
      ]
     },
     "execution_count": 2,
     "metadata": {},
     "output_type": "execute_result"
    }
   ],
   "source": [
    "import textwrap\n",
    "\n",
    "def chunk_text(text, chunk_size=300, overlap=50):\n",
    "    words = text.split()\n",
    "    chunks = []\n",
    "    start = 0\n",
    "    while start < len(words):\n",
    "        end = min(start + chunk_size, len(words))\n",
    "        chunk = \" \".join(words[start:end])\n",
    "        chunks.append(chunk)\n",
    "        start += chunk_size - overlap\n",
    "    return chunks\n",
    "\n",
    "chunks = chunk_text(raw_knowledge)\n",
    "len(chunks)"
   ]
  },
  {
   "cell_type": "code",
   "execution_count": 3,
   "id": "00beb979",
   "metadata": {},
   "outputs": [],
   "source": [
    "import requests\n",
    "\n",
    "def get_ollama_embedding(text, model=\"mxbai-embed-large\"):\n",
    "    response = requests.post(\n",
    "        \"http://localhost:11434/api/embeddings\",\n",
    "        json={\"model\": model, \"prompt\": text}\n",
    "    )\n",
    "    return response.json()[\"embedding\"]\n",
    "\n",
    "chunk_embeddings = [get_ollama_embedding(chunk) for chunk in chunks]"
   ]
  },
  {
   "cell_type": "code",
   "execution_count": 4,
   "id": "724deb24",
   "metadata": {},
   "outputs": [
    {
     "data": {
      "text/plain": [
       "1024"
      ]
     },
     "execution_count": 4,
     "metadata": {},
     "output_type": "execute_result"
    }
   ],
   "source": [
    "len(chunk_embeddings[0])"
   ]
  },
  {
   "cell_type": "code",
   "execution_count": 5,
   "id": "97061ed3",
   "metadata": {},
   "outputs": [
    {
     "data": {
      "text/plain": [
       "21"
      ]
     },
     "execution_count": 5,
     "metadata": {},
     "output_type": "execute_result"
    }
   ],
   "source": [
    "len(chunk_embeddings)"
   ]
  },
  {
   "cell_type": "code",
   "execution_count": 6,
   "id": "e9b5fcf5",
   "metadata": {},
   "outputs": [],
   "source": [
    "import chromadb\n",
    "\n",
    "# Use PersistentClient in v0.4+\n",
    "chroma_client = chromadb.PersistentClient(path=\"./rag_chroma\")\n",
    "collection = chroma_client.get_or_create_collection(\"pmt_pro_docs\")\n",
    "\n",
    "for i, (chunk, embedding) in enumerate(zip(chunks, chunk_embeddings)):\n",
    "    collection.add(\n",
    "        documents=[chunk],\n",
    "        embeddings=[embedding],\n",
    "        ids=[f\"chunk_{i}\"]\n",
    "    )"
   ]
  },
  {
   "cell_type": "code",
   "execution_count": 7,
   "id": "7faafd11",
   "metadata": {},
   "outputs": [
    {
     "name": "stdout",
     "output_type": "stream",
     "text": [
      "PMT Pro - User FAQ (Frequently Asked Questions) GENERAL USAGE Q1: What is PMT Pro? A1: PMT Pro is an AI-powered project management tool designed to help teams plan, collaborate, and execute projects more efficiently. It integrates traditional project management features like Kanban boards, task lists, timelines, and team chat with advanced AI capabilities including smart task prioritization, predictive analytics, and an expert chatbot assistant, along with on-tip-availability of everything about the project using Agentic RAG technology for keeping all informed with relevant information, for the ask. Q2: How is PMT Pro different from Basecamp, Trello, or Asana? A2: Unlike those platforms, PMT Pro includes: A 24/7 AI assistant powered by a Retrieval-Augmented Generation (RAG) model Automatic task prioritization and deadline tracking Dynamic filtering by project context Meeting summaries, intelligent suggestions, and risk alerts A built-in document and link repository for each project Q3: What kind of users is PMT Pro designed for? A3: PMT Pro is ideal for agile software teams, consultancies, distributed teams, and organizations managing multiple concurrent projects. It's built to be simple enough for daily users and powerful enough for technical and project leads. KANBAN BOARD & TASK MANAGEMENT Q4: How do I use the Kanban board? A4: The Kanban board displays tasks in four stages: To Do, In Progress, Review, and Done. You can drag and drop cards between stages, assign due dates, and add team members. Each card can also include notes and priority tags. Q5: What does the color-coded priority mean? A5: Red: High priority Orange: Medium priority Green: Low priority These labels help you identify the urgency of each task. Q6: What is the difference between 'Tasks' and 'Kanban cards'? A6: Tasks from the 'Tasks' page are general-purpose and can be assigned independently. Kanban cards represent workflow-based tasks tied to a process.\n",
      "---\n",
      "insights, prioritize your actions, advise on tasks”). This tight integration of chatbot guidance within the project workspace exemplifies PMT Pro’s unique AI-driven user experience. Key Product Capabilities and AI Differentiators PMT Pro delivers all the essential capabilities expected of a modern project management platform, with the added advantage of AI-driven intelligence and automation. Below is an overview of its core features and what sets them apart: Comprehensive Project Management Suite: Includes task management (with due dates, assignees, statuses), Kanban boards for agile workflows, calendar/timeline views (Day/Week/Month) for scheduling, and integrated team chat. These fundamentals are on par with leading tools – the MVP already covers most essential functions found in Basecamp/Asanafile-lzwt1a8jfgwduo7egwmbrr. Notably, PMT Pro supports agile methodologies (e.g. Scrum boards from To Do → Done) and time-based planning out-of-the-box, whereas Basecamp favors simplicity over structured planning. AI-Powered Task Prioritization: The system automatically ranks and highlights tasks based on urgency, deadlines, and even dependencies. This intelligent sorting means project managers and team members always see the most critical work first – a capability absent in Basecamp, Trello, or Asana (none of which offer built-in AI-driven prioritizationfile-lzwt1a8jfgwduo7egwmbrr). By analyzing project data and user behavior, PMT Pro’s AI can recommend what each user should focus on next, something competitors require manual effort or external tools to achieve. RAG-based Expert Assistant: PMT Pro’s integrated chatbot utilizes Retrieval-Augmented Generation (RAG), an AI approach that combines live information retrieval with generative AIcloud.google.com. In practice, this means the chatbot can pull in relevant context from project documents, past conversations, task history, and knowledge bases in real time, and use that context to generate accurate, tailored responses. Users can ask the assistant questions like “What were last week’s key decisions?” or “Are there any blockers for the Q2 release?”, and get instant answers grounded in the project’s actual\n",
      "---\n",
      "High priority Orange: Medium priority Green: Low priority These labels help you identify the urgency of each task. Q6: What is the difference between 'Tasks' and 'Kanban cards'? A6: Tasks from the 'Tasks' page are general-purpose and can be assigned independently. Kanban cards represent workflow-based tasks tied to a process. PMT Pro allows both, and distinguishes them automatically in the To-Do List. TO-DO LIST & TIMELINE Q7: How is the To-Do list organized? A7: The To-Do list is automatically sorted by due date, with overdue tasks highlighted at the top. It combines tasks from both Kanban and general Task entries. Q8: Can I see my tasks on a calendar or timeline? A8: Yes. You can view all tasks on a Day/Week/Month timeline and filter by project or team member. TEAM CHAT & COLLABORATION Q9: How does team chat work in PMT Pro? A9: The Team Chat module allows real-time collaboration between members. Each message is saved and indexed. Mentions (e.g., @john) notify specific users. The chat is tied to your project context. Q10: Can chats be converted into tasks? A10: Yes. The chatbot can parse chat content and turn them into tasks with due dates and assignments using natural language commands. AI ASSISTANT (CHATBOT) Q11: What does the chatbot do? A11: The AI assistant can: Summarize recent project activity Prioritize your To-Do list Answer project-specific questions Suggest next steps or highlight risks Turn notes or chat into tasks Q12: What is RAG and why is it important? A12: RAG stands for Retrieval-Augmented Generation. It enables the chatbot to search project documents, chat logs, task lists, and more before generating a response—ensuring it gives you accurate, up-to-date, and project-specific guidance. Q13: What kind of data can the chatbot use? A13: The bot uses: Chat messages Kanban task metadata Timeline and To-Do\n"
     ]
    }
   ],
   "source": [
    "def get_query_embedding(query):\n",
    "    return get_ollama_embedding(query)\n",
    "\n",
    "def retrieve_context(query, top_k=3):\n",
    "    query_embedding = get_query_embedding(query)\n",
    "    results = collection.query(query_embeddings=[query_embedding], n_results=top_k)\n",
    "    return \"\\n---\\n\".join(results['documents'][0])\n",
    "\n",
    "query = \"How does PMT Pro handle overdue tasks?\"\n",
    "retrieved_context = retrieve_context(query)\n",
    "print(retrieved_context)"
   ]
  },
  {
   "cell_type": "code",
   "execution_count": 8,
   "id": "589f49ff",
   "metadata": {},
   "outputs": [
    {
     "name": "stdout",
     "output_type": "stream",
     "text": [
      "According to Question 7 (A7) in the PMT Pro User FAQ, \"The To-Do list is automatically sorted by due date, with overdue tasks highlighted at the top.\" This means that PMT Pro will highlight overdue tasks at the top of the To-Do list, making it easy for team members and project managers to see which tasks are past their deadline.\n"
     ]
    }
   ],
   "source": [
    "def generate_answer(query, context):\n",
    "    prompt = f\"\"\"You are a helpful assistant for PMT Pro. Use the context below to answer the user's question.\\n\\nContext:\\n{context}\\n\\nQuestion: {query}\\nAnswer:\"\"\"\n",
    "    response = requests.post(\n",
    "        \"http://localhost:11434/api/generate\",\n",
    "        json={\"model\": \"llama3.1:8b\", \"prompt\": prompt, \"stream\": False}\n",
    "    )\n",
    "    return response.json()[\"response\"]\n",
    "\n",
    "answer = generate_answer(query, retrieved_context)\n",
    "print(answer)"
   ]
  },
  {
   "cell_type": "code",
   "execution_count": 9,
   "id": "d5c8f43a",
   "metadata": {},
   "outputs": [],
   "source": [
    "from IPython.display import Markdown, display"
   ]
  },
  {
   "cell_type": "code",
   "execution_count": 10,
   "id": "0f73e92f",
   "metadata": {},
   "outputs": [
    {
     "data": {
      "text/markdown": [
       "According to Question 7 (A7) in the PMT Pro User FAQ, \"The To-Do list is automatically sorted by due date, with overdue tasks highlighted at the top.\" This means that PMT Pro will highlight overdue tasks at the top of the To-Do list, making it easy for team members and project managers to see which tasks are past their deadline."
      ],
      "text/plain": [
       "<IPython.core.display.Markdown object>"
      ]
     },
     "metadata": {},
     "output_type": "display_data"
    }
   ],
   "source": [
    "display(Markdown(answer))"
   ]
  },
  {
   "cell_type": "code",
   "execution_count": 11,
   "id": "ca01842a",
   "metadata": {},
   "outputs": [
    {
     "data": {
      "text/markdown": [
       "According to our FAQ (Q4), \"How do you use the Kanban board?\" is answered as follows:\n",
       "\n",
       "\"The Kanban board displays tasks in four stages: To Do, In Progress, Review, and Done. You can drag and drop cards between stages, assign due dates, and add team members. Each card can also include notes and priority tags.\"\n",
       "\n",
       "In simpler terms, to use the Kanban board, you can follow these steps:\n",
       "\n",
       "1. Create or move tasks to one of the four stages (To Do, In Progress, Review, Done).\n",
       "2. Assign due dates to tasks.\n",
       "3. Add team members to tasks.\n",
       "4. Use notes and priority tags on each card.\n",
       "\n",
       "Let me know if you have any further questions!"
      ],
      "text/plain": [
       "<IPython.core.display.Markdown object>"
      ]
     },
     "metadata": {},
     "output_type": "display_data"
    }
   ],
   "source": [
    "query = \"How do I use the Kanban board?\"\n",
    "retrieved_context = retrieve_context(query)\n",
    "\n",
    "answer = generate_answer(query, retrieved_context)\n",
    "display(Markdown(answer))"
   ]
  },
  {
   "cell_type": "code",
   "execution_count": 12,
   "id": "f05886dd",
   "metadata": {},
   "outputs": [
    {
     "data": {
      "text/markdown": [
       "Team chat in PMT Pro is integrated with project data, allowing the AI to reference chat context when providing answers or suggestions. Team conversations can be quickly turned into linked tasks or knowledge entries. This means that chats are not just a communication channel, but also closely tied to work tracking and project management.\n",
       "\n",
       "In more detail:\n",
       "\n",
       "* The team chat is a collaborative space where team members can communicate with each other in real-time.\n",
       "* The AI assistant can reference the context of the conversation when providing answers or suggestions.\n",
       "* Team conversations can be quickly turned into linked tasks or knowledge entries, allowing for seamless transition from discussion to action.\n",
       "* This integration enables teams to have contextual and productive discussions that are directly connected to their project work.\n",
       "\n",
       "Overall, team chat in PMT Pro is designed to facilitate collaboration, productivity, and effective communication among team members."
      ],
      "text/plain": [
       "<IPython.core.display.Markdown object>"
      ]
     },
     "metadata": {},
     "output_type": "display_data"
    }
   ],
   "source": [
    "query = \"How does team chat work in PMT Pro?\"\n",
    "retrieved_context = retrieve_context(query)\n",
    "\n",
    "answer = generate_answer(query, retrieved_context)\n",
    "display(Markdown(answer))"
   ]
  },
  {
   "cell_type": "code",
   "execution_count": 13,
   "id": "d12cb50a",
   "metadata": {},
   "outputs": [
    {
     "data": {
      "text/markdown": [
       "Yes. The chatbot continuously improves as more documents and chat context are added. Future updates will support custom project goals, style preferences, and voice tuning."
      ],
      "text/plain": [
       "<IPython.core.display.Markdown object>"
      ]
     },
     "metadata": {},
     "output_type": "display_data"
    }
   ],
   "source": [
    "query = \"Can the chatbot be customized or trained further?\"\n",
    "retrieved_context = retrieve_context(query)\n",
    "\n",
    "answer = generate_answer(query, retrieved_context)\n",
    "display(Markdown(answer))"
   ]
  },
  {
   "cell_type": "code",
   "execution_count": 14,
   "id": "d45eb3b1",
   "metadata": {},
   "outputs": [
    {
     "data": {
      "text/markdown": [
       "Use the chatbot or contact your admin to report issues or make suggestions. We welcome your feedback to continue improving PMT Pro."
      ],
      "text/plain": [
       "<IPython.core.display.Markdown object>"
      ]
     },
     "metadata": {},
     "output_type": "display_data"
    }
   ],
   "source": [
    "query = \"What if I find a bug or have a feature request?\"\n",
    "retrieved_context = retrieve_context(query)\n",
    "\n",
    "answer = generate_answer(query, retrieved_context)\n",
    "display(Markdown(answer))"
   ]
  },
  {
   "cell_type": "code",
   "execution_count": 15,
   "id": "2fac3dde",
   "metadata": {},
   "outputs": [
    {
     "data": {
      "text/markdown": [
       "Based on the provided context, here are some applications that PMT Pro can handle:\n",
       "\n",
       "1. **Project planning**: PMT Pro helps teams plan projects with features like Kanban boards, task lists, timelines, and team chat.\n",
       "2. **Task management**: The platform enables smart task prioritization, deadline tracking, and dynamic filtering by project context.\n",
       "3. **Document storage and sharing**: PMT Pro has a built-in document and link repository for each project, allowing teams to store and share important files and links.\n",
       "4. **Communication and collaboration**: The platform includes team chat, meeting summaries, intelligent suggestions, and risk alerts to facilitate real-time collaboration.\n",
       "5. **Agile software development**: PMT Pro is ideal for agile software teams, consultancies, distributed teams, and organizations managing multiple concurrent projects.\n",
       "\n",
       "These features indicate that PMT Pro can handle a wide range of applications related to project management, task management, communication, and document sharing."
      ],
      "text/plain": [
       "<IPython.core.display.Markdown object>"
      ]
     },
     "metadata": {},
     "output_type": "display_data"
    }
   ],
   "source": [
    "query = \"List the applications that PMT Pro can handle.\"\n",
    "retrieved_context = retrieve_context(query)\n",
    "\n",
    "answer = generate_answer(query, retrieved_context)\n",
    "display(Markdown(answer))"
   ]
  },
  {
   "cell_type": "code",
   "execution_count": 16,
   "id": "c5553af5",
   "metadata": {},
   "outputs": [
    {
     "data": {
      "text/markdown": [
       "According to our system, PMT Pro uses AI-powered task prioritization to automatically rank and highlight tasks based on urgency, deadlines, and dependencies. This means that the system will analyze project data and user behavior to recommend what each user should focus on next.\n",
       "\n",
       "To prioritize tasks on PMT, you can follow these steps:\n",
       "\n",
       "1. Go to the \"Tasks\" page.\n",
       "2. The system will automatically sort tasks by due date, with overdue tasks highlighted at the top.\n",
       "3. You can also use the color-coded priority labels:\n",
       "\t* Red: High priority\n",
       "\t* Orange: Medium priority\n",
       "\t* Green: Low priority\n",
       "4. Additionally, you can ask the AI assistant for help prioritizing your tasks. The chatbot can analyze project data and provide personalized recommendations on what to focus on next.\n",
       "\n",
       "By using these features, PMT Pro's AI-powered task prioritization helps ensure that you and your team members are always working on the most critical tasks first."
      ],
      "text/plain": [
       "<IPython.core.display.Markdown object>"
      ]
     },
     "metadata": {},
     "output_type": "display_data"
    }
   ],
   "source": [
    "query = \"How do we prioritize the task on PMT?\"\n",
    "retrieved_context = retrieve_context(query)\n",
    "\n",
    "answer = generate_answer(query, retrieved_context)\n",
    "display(Markdown(answer))"
   ]
  },
  {
   "cell_type": "code",
   "execution_count": 17,
   "id": "94a9c8a0",
   "metadata": {},
   "outputs": [
    {
     "data": {
      "text/markdown": [
       "Here's a comprehensive overview of PMT Pro:\n",
       "\n",
       "**What PMT Pro Is For:**\n",
       "\n",
       "* An AI-powered project management tool designed to help teams plan, collaborate, and execute projects more efficiently\n",
       "* Integrates traditional project management features with advanced AI capabilities for smart task prioritization, predictive analytics, and expert chatbot assistance\n",
       "* Ideal for agile software teams, consultancies, distributed teams, and organizations managing multiple concurrent projects\n",
       "* Designed for simplicity and power, suitable for both daily users and technical/project leads\n",
       "\n",
       "**Key Features:**\n",
       "\n",
       "* 24/7 AI assistant powered by a Retrieval-Augmented Generation (RAG) model\n",
       "* Automatic task prioritization and deadline tracking\n",
       "* Dynamic filtering by project context\n",
       "* Meeting summaries, intelligent suggestions, and risk alerts\n",
       "* Built-in document and link repository for each project\n",
       "* Kanban board with four stages: To Do, In Progress, Review, and Done\n",
       "* Color-coded priority labels (Red: High priority, Orange: Medium priority, Green: Low priority)\n",
       "* Tasks and Kanban cards, which can be assigned independently or tied to a process\n",
       "\n",
       "**What PMT Pro Isn't For:**\n",
       "\n",
       "* A simple, minimalistic tool (it's designed for mixed-skill teams with both power and simplicity)\n",
       "* A platform that lacks advanced AI capabilities (it offers predictive analytics, smart task prioritization, and expert chatbot assistance)\n",
       "* A solution that doesn't support real-time collaboration (it has built-in voice/video meeting integration and instant meeting links)\n",
       "* A tool that doesn't centralize important files and knowledge (it has a \"Important Files and Links\" section with searchable content)\n",
       "\n",
       "Overall, PMT Pro is designed to provide a comprehensive project management solution with advanced AI capabilities, making it an attractive option for teams looking for a powerful and user-friendly platform."
      ],
      "text/plain": [
       "<IPython.core.display.Markdown object>"
      ]
     },
     "metadata": {},
     "output_type": "display_data"
    }
   ],
   "source": [
    "query = \"Give a complete overview of this PMT. What it is for and what it isn't for? Give the response in bullet points.\"\n",
    "retrieved_context = retrieve_context(query)\n",
    "\n",
    "answer = generate_answer(query, retrieved_context)\n",
    "display(Markdown(answer))"
   ]
  },
  {
   "cell_type": "code",
   "execution_count": null,
   "id": "38491bf5",
   "metadata": {},
   "outputs": [],
   "source": []
  }
 ],
 "metadata": {
  "kernelspec": {
   "display_name": "Python 3",
   "language": "python",
   "name": "python3"
  },
  "language_info": {
   "codemirror_mode": {
    "name": "ipython",
    "version": 3
   },
   "file_extension": ".py",
   "mimetype": "text/x-python",
   "name": "python",
   "nbconvert_exporter": "python",
   "pygments_lexer": "ipython3",
   "version": "3.12.0"
  }
 },
 "nbformat": 4,
 "nbformat_minor": 5
}
