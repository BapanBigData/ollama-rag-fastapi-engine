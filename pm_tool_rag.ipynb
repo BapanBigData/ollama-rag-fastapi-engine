{
 "cells": [
  {
   "cell_type": "code",
   "execution_count": 4,
   "id": "60220de5",
   "metadata": {},
   "outputs": [
    {
     "data": {
      "text/plain": [
       "34442"
      ]
     },
     "execution_count": 4,
     "metadata": {},
     "output_type": "execute_result"
    }
   ],
   "source": [
    "from docx import Document\n",
    "\n",
    "def extract_text_from_docx(path):\n",
    "    doc = Document(path)\n",
    "    return \"\\n\".join([para.text for para in doc.paragraphs if para.text.strip()])\n",
    "\n",
    "doc1 = extract_text_from_docx('1747395490801_PMT Pro User FAQ.docx')\n",
    "doc2 = extract_text_from_docx('1747395531476_Status and Evaluation on 15MAY2025 - PM Pro.docx')\n",
    "\n",
    "raw_knowledge = doc1 + \"\\n\" + doc2\n",
    "len(raw_knowledge)"
   ]
  },
  {
   "cell_type": "code",
   "execution_count": 6,
   "id": "fa7d84a7",
   "metadata": {},
   "outputs": [
    {
     "data": {
      "text/plain": [
       "21"
      ]
     },
     "execution_count": 6,
     "metadata": {},
     "output_type": "execute_result"
    }
   ],
   "source": [
    "import textwrap\n",
    "\n",
    "def chunk_text(text, chunk_size=300, overlap=50):\n",
    "    words = text.split()\n",
    "    chunks = []\n",
    "    start = 0\n",
    "    while start < len(words):\n",
    "        end = min(start + chunk_size, len(words))\n",
    "        chunk = \" \".join(words[start:end])\n",
    "        chunks.append(chunk)\n",
    "        start += chunk_size - overlap\n",
    "    return chunks\n",
    "\n",
    "chunks = chunk_text(raw_knowledge)\n",
    "len(chunks)"
   ]
  },
  {
   "cell_type": "code",
   "execution_count": 7,
   "id": "00beb979",
   "metadata": {},
   "outputs": [],
   "source": [
    "import requests\n",
    "\n",
    "def get_ollama_embedding(text, model=\"mxbai-embed-large\"):\n",
    "    response = requests.post(\n",
    "        \"http://localhost:11434/api/embeddings\",\n",
    "        json={\"model\": model, \"prompt\": text}\n",
    "    )\n",
    "    return response.json()[\"embedding\"]\n",
    "\n",
    "chunk_embeddings = [get_ollama_embedding(chunk) for chunk in chunks]\n"
   ]
  },
  {
   "cell_type": "code",
   "execution_count": 10,
   "id": "724deb24",
   "metadata": {},
   "outputs": [
    {
     "data": {
      "text/plain": [
       "1024"
      ]
     },
     "execution_count": 10,
     "metadata": {},
     "output_type": "execute_result"
    }
   ],
   "source": [
    "len(chunk_embeddings[0])"
   ]
  },
  {
   "cell_type": "code",
   "execution_count": 11,
   "id": "97061ed3",
   "metadata": {},
   "outputs": [
    {
     "data": {
      "text/plain": [
       "21"
      ]
     },
     "execution_count": 11,
     "metadata": {},
     "output_type": "execute_result"
    }
   ],
   "source": [
    "len(chunk_embeddings)"
   ]
  },
  {
   "cell_type": "code",
   "execution_count": 13,
   "id": "e9b5fcf5",
   "metadata": {},
   "outputs": [],
   "source": [
    "import chromadb\n",
    "\n",
    "# Use PersistentClient in v0.4+\n",
    "chroma_client = chromadb.PersistentClient(path=\"./rag_chroma\")\n",
    "collection = chroma_client.get_or_create_collection(\"pmt_pro_docs\")\n",
    "\n",
    "for i, (chunk, embedding) in enumerate(zip(chunks, chunk_embeddings)):\n",
    "    collection.add(\n",
    "        documents=[chunk],\n",
    "        embeddings=[embedding],\n",
    "        ids=[f\"chunk_{i}\"]\n",
    "    )\n"
   ]
  },
  {
   "cell_type": "code",
   "execution_count": 14,
   "id": "7faafd11",
   "metadata": {},
   "outputs": [
    {
     "name": "stdout",
     "output_type": "stream",
     "text": [
      "PMT Pro - User FAQ (Frequently Asked Questions) GENERAL USAGE Q1: What is PMT Pro? A1: PMT Pro is an AI-powered project management tool designed to help teams plan, collaborate, and execute projects more efficiently. It integrates traditional project management features like Kanban boards, task lists, timelines, and team chat with advanced AI capabilities including smart task prioritization, predictive analytics, and an expert chatbot assistant, along with on-tip-availability of everything about the project using Agentic RAG technology for keeping all informed with relevant information, for the ask. Q2: How is PMT Pro different from Basecamp, Trello, or Asana? A2: Unlike those platforms, PMT Pro includes: A 24/7 AI assistant powered by a Retrieval-Augmented Generation (RAG) model Automatic task prioritization and deadline tracking Dynamic filtering by project context Meeting summaries, intelligent suggestions, and risk alerts A built-in document and link repository for each project Q3: What kind of users is PMT Pro designed for? A3: PMT Pro is ideal for agile software teams, consultancies, distributed teams, and organizations managing multiple concurrent projects. It's built to be simple enough for daily users and powerful enough for technical and project leads. KANBAN BOARD & TASK MANAGEMENT Q4: How do I use the Kanban board? A4: The Kanban board displays tasks in four stages: To Do, In Progress, Review, and Done. You can drag and drop cards between stages, assign due dates, and add team members. Each card can also include notes and priority tags. Q5: What does the color-coded priority mean? A5: Red: High priority Orange: Medium priority Green: Low priority These labels help you identify the urgency of each task. Q6: What is the difference between 'Tasks' and 'Kanban cards'? A6: Tasks from the 'Tasks' page are general-purpose and can be assigned independently. Kanban cards represent workflow-based tasks tied to a process.\n",
      "---\n",
      "insights, prioritize your actions, advise on tasks”). This tight integration of chatbot guidance within the project workspace exemplifies PMT Pro’s unique AI-driven user experience. Key Product Capabilities and AI Differentiators PMT Pro delivers all the essential capabilities expected of a modern project management platform, with the added advantage of AI-driven intelligence and automation. Below is an overview of its core features and what sets them apart: Comprehensive Project Management Suite: Includes task management (with due dates, assignees, statuses), Kanban boards for agile workflows, calendar/timeline views (Day/Week/Month) for scheduling, and integrated team chat. These fundamentals are on par with leading tools – the MVP already covers most essential functions found in Basecamp/Asanafile-lzwt1a8jfgwduo7egwmbrr. Notably, PMT Pro supports agile methodologies (e.g. Scrum boards from To Do → Done) and time-based planning out-of-the-box, whereas Basecamp favors simplicity over structured planning. AI-Powered Task Prioritization: The system automatically ranks and highlights tasks based on urgency, deadlines, and even dependencies. This intelligent sorting means project managers and team members always see the most critical work first – a capability absent in Basecamp, Trello, or Asana (none of which offer built-in AI-driven prioritizationfile-lzwt1a8jfgwduo7egwmbrr). By analyzing project data and user behavior, PMT Pro’s AI can recommend what each user should focus on next, something competitors require manual effort or external tools to achieve. RAG-based Expert Assistant: PMT Pro’s integrated chatbot utilizes Retrieval-Augmented Generation (RAG), an AI approach that combines live information retrieval with generative AIcloud.google.com. In practice, this means the chatbot can pull in relevant context from project documents, past conversations, task history, and knowledge bases in real time, and use that context to generate accurate, tailored responses. Users can ask the assistant questions like “What were last week’s key decisions?” or “Are there any blockers for the Q2 release?”, and get instant answers grounded in the project’s actual\n",
      "---\n",
      "High priority Orange: Medium priority Green: Low priority These labels help you identify the urgency of each task. Q6: What is the difference between 'Tasks' and 'Kanban cards'? A6: Tasks from the 'Tasks' page are general-purpose and can be assigned independently. Kanban cards represent workflow-based tasks tied to a process. PMT Pro allows both, and distinguishes them automatically in the To-Do List. TO-DO LIST & TIMELINE Q7: How is the To-Do list organized? A7: The To-Do list is automatically sorted by due date, with overdue tasks highlighted at the top. It combines tasks from both Kanban and general Task entries. Q8: Can I see my tasks on a calendar or timeline? A8: Yes. You can view all tasks on a Day/Week/Month timeline and filter by project or team member. TEAM CHAT & COLLABORATION Q9: How does team chat work in PMT Pro? A9: The Team Chat module allows real-time collaboration between members. Each message is saved and indexed. Mentions (e.g., @john) notify specific users. The chat is tied to your project context. Q10: Can chats be converted into tasks? A10: Yes. The chatbot can parse chat content and turn them into tasks with due dates and assignments using natural language commands. AI ASSISTANT (CHATBOT) Q11: What does the chatbot do? A11: The AI assistant can: Summarize recent project activity Prioritize your To-Do list Answer project-specific questions Suggest next steps or highlight risks Turn notes or chat into tasks Q12: What is RAG and why is it important? A12: RAG stands for Retrieval-Augmented Generation. It enables the chatbot to search project documents, chat logs, task lists, and more before generating a response—ensuring it gives you accurate, up-to-date, and project-specific guidance. Q13: What kind of data can the chatbot use? A13: The bot uses: Chat messages Kanban task metadata Timeline and To-Do\n"
     ]
    }
   ],
   "source": [
    "def get_query_embedding(query):\n",
    "    return get_ollama_embedding(query)\n",
    "\n",
    "def retrieve_context(query, top_k=3):\n",
    "    query_embedding = get_query_embedding(query)\n",
    "    results = collection.query(query_embeddings=[query_embedding], n_results=top_k)\n",
    "    return \"\\n---\\n\".join(results['documents'][0])\n",
    "\n",
    "query = \"How does PMT Pro handle overdue tasks?\"\n",
    "retrieved_context = retrieve_context(query)\n",
    "print(retrieved_context)\n"
   ]
  },
  {
   "cell_type": "code",
   "execution_count": 15,
   "id": "589f49ff",
   "metadata": {},
   "outputs": [
    {
     "name": "stdout",
     "output_type": "stream",
     "text": [
      "PMT Pro addresses overdue tasks in its to-do list, which is automatically sorted by due date. In the overdue task list, overdue tasks are highlighted at the top with an \"overdue\" label indicating they need to be addressed soon. Additionally, PMT Pro allows users to view all tasks on a Day/Week/Month timeframe and filter by project or team member. Menctions (e.g., @john) can be used to turn overdue chat messages into tasks with due dates and assignment using natural language commands. The AI assistant also provides real-time collaboration between members and can parse chat content, turn overdue tasks into tasks with due dates and assignments using natural language commands, and summarize recent project activity, prioritize your To-Do list, answer project-specific questions, suggest next steps or highlight risks, turn notes or chat into tasks, and generate accurate, up-to-date, and project-specific guidance.\n"
     ]
    }
   ],
   "source": [
    "def generate_answer(query, context):\n",
    "    prompt = f\"\"\"You are a helpful assistant for PMT Pro. Use the context below to answer the user's question.\\n\\nContext:\\n{context}\\n\\nQuestion: {query}\\nAnswer:\"\"\"\n",
    "    response = requests.post(\n",
    "        \"http://localhost:11434/api/generate\",\n",
    "        json={\"model\": \"tinyllama:1.1b\", \"prompt\": prompt, \"stream\": False}\n",
    "    )\n",
    "    return response.json()[\"response\"]\n",
    "\n",
    "answer = generate_answer(query, retrieved_context)\n",
    "print(answer)\n"
   ]
  },
  {
   "cell_type": "code",
   "execution_count": 17,
   "id": "d5c8f43a",
   "metadata": {},
   "outputs": [],
   "source": [
    "from IPython.display import Markdown, display"
   ]
  },
  {
   "cell_type": "code",
   "execution_count": 18,
   "id": "0f73e92f",
   "metadata": {},
   "outputs": [
    {
     "data": {
      "text/markdown": [
       "PMT Pro addresses overdue tasks in its to-do list, which is automatically sorted by due date. In the overdue task list, overdue tasks are highlighted at the top with an \"overdue\" label indicating they need to be addressed soon. Additionally, PMT Pro allows users to view all tasks on a Day/Week/Month timeframe and filter by project or team member. Menctions (e.g., @john) can be used to turn overdue chat messages into tasks with due dates and assignment using natural language commands. The AI assistant also provides real-time collaboration between members and can parse chat content, turn overdue tasks into tasks with due dates and assignments using natural language commands, and summarize recent project activity, prioritize your To-Do list, answer project-specific questions, suggest next steps or highlight risks, turn notes or chat into tasks, and generate accurate, up-to-date, and project-specific guidance."
      ],
      "text/plain": [
       "<IPython.core.display.Markdown object>"
      ]
     },
     "metadata": {},
     "output_type": "display_data"
    }
   ],
   "source": [
    "display(Markdown(answer))"
   ]
  },
  {
   "cell_type": "code",
   "execution_count": 19,
   "id": "ca01842a",
   "metadata": {},
   "outputs": [
    {
     "data": {
      "text/markdown": [
       "To use the Kanban board in PMT Pro, follow these steps:\n",
       "1. Open the project dashboard and go to \"Kanban board\" on the left sidebar.\n",
       "2. Click on the plus sign (+) to add a new card or click on an existing card to update it.\n",
       "3. Choose the color-coded priority of each task (red for high priority, orange for medium priority, green for low priority), drag and drop cards between stages, assign due dates, and add team members.\n",
       "4. You can also use the Kanban cards as a way to quickly scan through tasks and get a visual overview.\n",
       "5. To jump into meetings smoothly, PMT Pro offers an integrated AI assistant called the \"Chatbot\" that can greet users and offer help. It can prioritize tasks based on project history and goals, serve as an on-demand project analyst for teamleads, and provide recommendations based on past interactions with the team file-lzwt1a8jfgwduo7egwmbrrfile-lzwt1a8jfgwduo7egwmbrr.\n",
       "6. PMT Pro offers a smart to-do list with priority order and tags for easy task organization, including tasks pulled from the Kanban board versus ad-hoc activities entered via the general task page. By tagging overdue tasks in red, you can focus on what's important right now and reduce the chaos of missed deadlines.\n",
       "7. Important files and links are organized in a centralized document repository.\n",
       "8. To get the most out of PMT Pro, try expanding collapsed sections to see all relevant information at once, and tailor views by collapsing sections not in use to increase focus and usability."
      ],
      "text/plain": [
       "<IPython.core.display.Markdown object>"
      ]
     },
     "metadata": {},
     "output_type": "display_data"
    }
   ],
   "source": [
    "query = \"How do I use the Kanban board?\"\n",
    "retrieved_context = retrieve_context(query)\n",
    "\n",
    "answer = generate_answer(query, retrieved_context)\n",
    "display(Markdown(answer))"
   ]
  },
  {
   "cell_type": "code",
   "execution_count": 20,
   "id": "f05886dd",
   "metadata": {},
   "outputs": [
    {
     "data": {
      "text/markdown": [
       "In PMT Pro, the integrated team chat is not just a communication channel but also linked to project data. The AI can reference chat context when providing answers or suggestions and team conversation can be quickly turned into linked tasks or knowledge entries. This integration of collaboration and work tracking sets PMT Pro apart from other project management tools like Trello (which has no native chat) and Asana (which has comments but no real-time chat)."
      ],
      "text/plain": [
       "<IPython.core.display.Markdown object>"
      ]
     },
     "metadata": {},
     "output_type": "display_data"
    }
   ],
   "source": [
    "query = \"How does team chat work in PMT Pro?\"\n",
    "retrieved_context = retrieve_context(query)\n",
    "\n",
    "answer = generate_answer(query, retrieved_context)\n",
    "display(Markdown(answer))"
   ]
  },
  {
   "cell_type": "code",
   "execution_count": 21,
   "id": "d12cb50a",
   "metadata": {},
   "outputs": [
    {
     "data": {
      "text/markdown": [
       "Sure, the chatbot in PMT Pro can be customized and trained further through future updates that improve the platform's capabilities and user experience. The team can upload their project goals, style preferences, and voice tuning to further enhance the chatbot's abilities and offer more personalized support to users. These upgrades will help PMT Pro to remain a top-of-the-line project management tool and provide better support for distributed teams."
      ],
      "text/plain": [
       "<IPython.core.display.Markdown object>"
      ]
     },
     "metadata": {},
     "output_type": "display_data"
    }
   ],
   "source": [
    "query = \"Can the chatbot be customized or trained further?\"\n",
    "retrieved_context = retrieve_context(query)\n",
    "\n",
    "answer = generate_answer(query, retrieved_context)\n",
    "display(Markdown(answer))"
   ]
  },
  {
   "cell_type": "code",
   "execution_count": 22,
   "id": "d45eb3b1",
   "metadata": {},
   "outputs": [
    {
     "data": {
      "text/markdown": [
       "To report bugs or make suggestions, users can use the chatbot or contact their admin to report issues or suggest features. PMT Pro continuously improves as more documents and chat context are added, and future updates may include custom project goals, style preference, and voice tuning for improved personalized support. The investor-oriented look at how PMT Pro stands out in a crowded market includes Executive Overview: \"PMT Pro is a next-generation project management tool that combines robust task management with artificial intelligence to deliver proactive planning, collaboration, and automaton capabilities.\" This AI-powered platform functions as a project manager co-pilot who empowers teams to work smarter and faster. PMT Pro addresses key pain points seen in traditional tools like Basecamp and Asana and offers a unified solution that matches the core strengths of popular tools like Basecamp and Asana. Receent Enhancement's (2025) include expanding top navigation to allow for more context-sensitive suggestions, an improved UI, and persistent context that keeps distributed teams connected. The chatbot and integrated AI ChaTBot are designed to provide ongoing support and assistance throughout the project lifecycle."
      ],
      "text/plain": [
       "<IPython.core.display.Markdown object>"
      ]
     },
     "metadata": {},
     "output_type": "display_data"
    }
   ],
   "source": [
    "query = \"What if I find a bug or have a feature request?\"\n",
    "retrieved_context = retrieve_context(query)\n",
    "\n",
    "answer = generate_answer(query, retrieved_context)\n",
    "display(Markdown(answer))"
   ]
  },
  {
   "cell_type": "code",
   "execution_count": 23,
   "id": "2fac3dde",
   "metadata": {},
   "outputs": [
    {
     "data": {
      "text/markdown": [
       "Sure! Here are some examples of other AI-powered project management tools PMT Pro can handle, based on their respective features and user experience:\n",
       "\n",
       "1. Basecamp\n",
       "2. Trello\n",
       "3. Asana\n",
       "4. Kanbanboard (Taskboard, ToDo list, Project Kanban)\n",
       "5. Agile software teams\n",
       "6. Distributed teams\n",
       "7. Managing multiple concurrent projects\n",
       "8. Task Prioritization\n",
       "9. Automatic task prioritization and deadline tracking\n",
       "10. Dynamic filtering by project context \n",
       "11. Meeting summaries, intelligent suggestions, and risk alerts\n",
       "12. Built-in document and link repository for each project\n",
       "13. Kanban boards displaying tasks in four stages: To Do, In Progress, Review, and Done\n",
       "14. Priority tags\n",
       "15. Color-coded priority\n",
       "16. Unified workspace - users have a single application that consolidates project planning, execution, and communication\n",
       "17. Concisely separating concerns within one screen for ease of context continuity with the AI\n",
       "18. Clean separation of concerns within one screen for easy team coordination\n",
       "19. Intuitive interface with reduced clutter - users can show or hide panel sections based on their current focus\n",
       "20. Properly categorized files and knowledge at hand to improve team efficiency and quality as well as a project knowledge base"
      ],
      "text/plain": [
       "<IPython.core.display.Markdown object>"
      ]
     },
     "metadata": {},
     "output_type": "display_data"
    }
   ],
   "source": [
    "query = \"List the applications that PMT Pro can handle.\"\n",
    "retrieved_context = retrieve_context(query)\n",
    "\n",
    "answer = generate_answer(query, retrieved_context)\n",
    "display(Markdown(answer))"
   ]
  },
  {
   "cell_type": "code",
   "execution_count": 24,
   "id": "c5553af5",
   "metadata": {},
   "outputs": [
    {
     "data": {
      "text/markdown": [
       "The answer to the user's question is: To prioritize tasks in PMT Pro, the chatbot uses the RAG (Retrieval-Augmenteed Generation) model that automatically ranks and highlights tasks based on urgency, deadlines, and even dependencies. The chatbot analyzes project data and user behavior to determine which task should be given a higher priority based on its contextual relevance. Users can ask the chatbot to generate accurate, tailored responses based on their specific needs, as well as ask it to categorize tasks by category, such as \"To Do\" or \"Kanban cards,\" and rank them accordingly. By leveraging the AI capabilities of the chatbot, PMT Pro provides a more efficient and effective way for teams to plan, collaborate, and execute projects."
      ],
      "text/plain": [
       "<IPython.core.display.Markdown object>"
      ]
     },
     "metadata": {},
     "output_type": "display_data"
    }
   ],
   "source": [
    "query = \"How do we prioritize the task on PMT?\"\n",
    "retrieved_context = retrieve_context(query)\n",
    "\n",
    "answer = generate_answer(query, retrieved_context)\n",
    "display(Markdown(answer))"
   ]
  },
  {
   "cell_type": "code",
   "execution_count": 26,
   "id": "94a9c8a0",
   "metadata": {},
   "outputs": [
    {
     "data": {
      "text/markdown": [
       "Sure! Here's a detailed overview of PMT Pro:\n",
       "\n",
       "1. AI-powered project management tool designed to help teams plan, collaborate, and execute projects more efficiently.\n",
       "2. Integrates traditional project management features like Kanban boards, task lists, timelines, and team chat with advanced AI capabilities including smart task prioritization, predictive analytics, and an expert chatbot assistant, along with on-time-availability of everything about the project using Agentic RAG technology for keeping all informed with relevant information, for the ask.\n",
       "3. Different levels of access based on user roles: PMT Pro is designed to be simple enough for daily users and powerful enough for technical and project leads.\n",
       "4. Kanban boards display tasks in four stages (To Do, In Progress, Review, Done) and users can drag and drop cards between stages, assign due dates, add team members, and get team progress updates.\n",
       "5. Used by over 20,000 teams worldwide.\n",
       "6. User-friendly UI with a built-in Kanban board, chatbox, and task summaries.\n",
       "7. Integrated chatbot that can answer frequently asked questions (FAQs) and perform smart tasks like prioritizing tasks based on priority levels or automating tasks such as email templates and file downloads.\n",
       "8. Team management tools include:\n",
       "9. Real-time communication through video calls, instant messaging, team chat, and voice/video conferencing (VC) for remote teams.\n",
       "10. Integrated document storage with integration with popular document repositories like Google Drive or Dropbox.\n",
       "11. Assistant for PMT Pro users. It can perform smart task prioritization, predictive analytics, and provide automation of tasks like email templates, file downloads, and meeting summaries based on team member status, project status, and other data sources.\n",
       "12. Integrated with social media platforms to enable real-time communication between teams.\n",
       "13. Advanced features for collaboration such as:\n",
       "14. Integration with popular project management software, including Asana, Basecamp, Trello, and more.\n",
       "15. Integration with AI-driven project portfolios that provide insights into team and project performance over time.\n",
       "16. Automated communication to avoid unnecessary meetings or stand-ups."
      ],
      "text/plain": [
       "<IPython.core.display.Markdown object>"
      ]
     },
     "metadata": {},
     "output_type": "display_data"
    }
   ],
   "source": [
    "query = \"Give a complete overview of this PMT. What it is for and what it isn't for? Give the response in bullet points.\"\n",
    "retrieved_context = retrieve_context(query)\n",
    "\n",
    "answer = generate_answer(query, retrieved_context)\n",
    "display(Markdown(answer))"
   ]
  },
  {
   "cell_type": "code",
   "execution_count": null,
   "id": "38491bf5",
   "metadata": {},
   "outputs": [],
   "source": []
  }
 ],
 "metadata": {
  "kernelspec": {
   "display_name": "Python 3",
   "language": "python",
   "name": "python3"
  },
  "language_info": {
   "codemirror_mode": {
    "name": "ipython",
    "version": 3
   },
   "file_extension": ".py",
   "mimetype": "text/x-python",
   "name": "python",
   "nbconvert_exporter": "python",
   "pygments_lexer": "ipython3",
   "version": "3.12.0"
  }
 },
 "nbformat": 4,
 "nbformat_minor": 5
}
